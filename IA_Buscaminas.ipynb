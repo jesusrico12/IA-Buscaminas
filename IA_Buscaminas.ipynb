{
 "cells": [
  {
   "cell_type": "code",
   "execution_count": 56,
   "metadata": {},
   "outputs": [],
   "source": [
    "import networkx  # Permite trabajar con grafos\n",
    "import pgmpy.models as pgmm  # Modelos gráficos de probabilidad\n",
    "import pgmpy.factors.discrete as pgmf  # Tablas de probabilidades condicionales y factores de probabilidad\n",
    "import pgmpy.inference as pgmi  # Inferencia probabilística exacta\n",
    "import random\n",
    "import numpy "
   ]
  },
  {
   "cell_type": "code",
   "execution_count": 57,
   "metadata": {},
   "outputs": [],
   "source": [
    "X = 5\n",
    "Y = 5\n",
    "numero_minas = 5"
   ]
  },
  {
   "cell_type": "code",
   "execution_count": 58,
   "metadata": {},
   "outputs": [],
   "source": [
    "#RESPECTO AL TABLERO\n",
    "def crear_tablero (X, Y, numero_minas):\n",
    "    #Si hay mas minas que posiciones del tablero salta un error\n",
    "    if (numero_minas > X * Y):\n",
    "        raise Exception('No puede haber más minas que casillas!!')\n",
    "        #esto saltaria si tuvieramos un boton,o alguna forma de preguntarlo,si pusieramos de mas ?\n",
    "        \n",
    "    #Ahora construyo el tablero con el tamaño definido por 'X' e 'Y'.\n",
    "    tablero = [[0] * X for i in range(X)]\n",
    "    \n",
    "    #Colocamos las minas en el tablero de forma aleatoria\n",
    "    for i in range (numero_minas):\n",
    "        columna_aleatoria = -1\n",
    "        fila_aleatoria = -1\n",
    "        #Si no tiene asignada ninguna columna ni fila se le pone una mina en una posicion aleatoria\n",
    "        while (columna_aleatoria == -1 or fila_aleatoria == -1 or tablero[fila_aleatoria][columna_aleatoria] == \"M\"):\n",
    "            columna_aleatoria = random.randint (0, Y-1)\n",
    "            fila_aleatoria = random.randint (0, X-1)\n",
    "            \n",
    "            #Se van colocando las minas    \n",
    "        tablero[fila_aleatoria][columna_aleatoria] = \"M\" #Se le asigna una mina con la letra M\n",
    "    #Contamos el numero de minas vecinas para cada casilla \n",
    "    #Contamos el numero de minas vecinas para cada casilla para completar el tablero\n",
    "    #Dibujo explicativo de los índices vecinos: [posicion del condicional](i,j)\n",
    "    #  |[1](-1,-1)|[2](-1,0)|[3](-1,+1)|\n",
    "    #  |[4](0,-1) |[-]( 0,0)|[5] (0,+1)| //CASILLA CENTRAL ELEGIDA \n",
    "    #  |[6](+1,-1)|[7](+1,0)|[8](+1,+1)|\n",
    "    suma = 0\n",
    "    for i in range (X): \n",
    "        for j in range (Y):\n",
    "            if ((i-1) >= 0 and (j-1) >= 0 and tablero[i-1][j-1] == \"M\"): #1\n",
    "                suma = suma + 1\n",
    "            if ((i-1) >= 0 and tablero[i-1][j] == \"M\"): #2\n",
    "                suma = suma + 1\n",
    "            if ((i-1) >= 0 and (j+1) < len(tablero) and tablero[i-1][j+1]  == \"M\"): #3 \n",
    "                suma = suma + 1\n",
    "            if ((j-1) >= 0 and tablero[i][j-1] == \"M\"): #4\n",
    "                suma = suma + 1\n",
    "            if ((j+1) < len(tablero) and tablero[i][j+1] == \"M\"): #5\n",
    "                suma = suma + 1\n",
    "            if ((i+1) < len(tablero) and (j-1) >= 0 and tablero[i+1][j-1] == \"M\"): #6\n",
    "                suma = suma + 1\n",
    "            if ((i+1) < len(tablero) and tablero[i+1][j] == \"M\"): #7\n",
    "                suma = suma + 1\n",
    "            if ((i+1) < len(tablero) and (j+1) < len(tablero) and tablero[i+1][j+1] == \"M\"): #8\n",
    "                suma = suma + 1\n",
    "            #Si la suma de minas vecinas es mayor que 0 y esa casilla no es una mina: se guarda ese numero en esa posicion\n",
    "            if (suma > 0 and tablero[i][j] != 'M'):\n",
    "                tablero[i][j] = str(suma)\n",
    "            suma = 0 \n",
    "            \n",
    "    return tablero\n",
    "    #Quedaría hacer las esquinas y lados de casilla escogida!!\n",
    "\n",
    "#OCULTAMOS TODAS LAS CASILLAS PARA INICIALIZAR EL TABLERO NO VISIBLE\n",
    "def tablero_oculto (X):\n",
    "    tableroOculto = [['X'] * X for i in range(X)]   # He definido que las casillas ocultas van a estar con una X\n",
    "    return tableroOculto\n",
    "\n",
    "#RESPECTO A LAS CASILLAS\n",
    "def destapar_casilla (i, j, tableroOculto, tableroDestapado):\n",
    "    if (tableroOculto[i][j] == 'X'):\n",
    "        casillaResuelta = tableroDestapado[i][j] #guardo en esa variable el resultado de la casilla destapada del tablero\n",
    "        #Ahora vemos que sucede en funcion de lo que de al destapar esa casilla\n",
    "        #Si la casilla es una mina\n",
    "        #  |[1](-1,-1)|[2](-1,0)|[3](-1,+1)|\n",
    "        #  |[4](0,-1) |[-]( 0,0)|[5] (0,+1)|\n",
    "        #  |[6](+1,-1)|[7](+1,0)|[8](+1,+1)|\n",
    "        if(casillaResuelta == 'M'):\n",
    "            raise Exception('Has perdido! ha explotado una mina')\n",
    "        #Si la casilla No es una mina\n",
    "        else:\n",
    "            tableroOculto[i][j] = casillaResuelta\n",
    "        #Si la casilla NO es una mina y tiene un 0 se destapa la zona\n",
    "        if(casillaResuelta == 0): #ahora de la misma manera que los if anteriores se destapan dependiendo de la posicion relativa de la casilla \n",
    "            if((i-1)>=0 and (j-1)>=0):#1\n",
    "                destapar_casilla(i-1, j-1, tableroOculto, tableroDestapado)\n",
    "            if((i-1)>=0):#2\n",
    "                destapar_casilla(i-1, j, tableroOculto, tableroDestapado) \n",
    "            if((i-1)>=0 and (j+1) < len(tableroOculto)):#3\n",
    "                destapar_casilla(i-1, j+1, tableroOculto, tableroDestapado)\n",
    "            if((j-1)>=0):#4\n",
    "                destapar_casilla(i, j-1, tableroOculto, tableroDestapado)\n",
    "            if((j+1)<len(tableroOculto)):#5\n",
    "                destapar_casilla(i, j+1, tableroOculto, tableroDestapado)\n",
    "            if((i+1)<len(tableroOculto) and (j-1)>=0):#6\n",
    "                destapar_casilla(i+1, j-1, tableroOculto, tableroDestapado)\n",
    "            if((i+1)<len(tableroOculto)):#7\n",
    "                destapar_casilla(i+1, j, tableroOculto, tableroDestapado)\n",
    "            if((i+1)<len(tableroOculto) and (j+1)<len(tableroOculto)):#8\n",
    "                destapar_casilla(i+1, j+1, tableroOculto, tableroDestapado)\n",
    "                     \n",
    "        return tableroOculto\n"
   ]
  },
  {
   "cell_type": "code",
   "execution_count": 59,
   "metadata": {},
   "outputs": [],
   "source": [
    "tableroDestapado = crear_tablero (X, Y, numero_minas)"
   ]
  },
  {
   "cell_type": "code",
   "execution_count": 60,
   "metadata": {},
   "outputs": [],
   "source": [
    "tableroOculto = tablero_oculto(X)"
   ]
  },
  {
   "cell_type": "code",
   "execution_count": 61,
   "metadata": {},
   "outputs": [
    {
     "name": "stdout",
     "output_type": "stream",
     "text": [
      "[['1' '1' '1' '0' '0']\n",
      " ['1' 'M' '1' '1' '1']\n",
      " ['1' '1' '1' '2' 'M']\n",
      " ['1' '1' '1' '3' 'M']\n",
      " ['1' 'M' '1' '2' 'M']]\n"
     ]
    }
   ],
   "source": [
    "print(numpy.array(tableroDestapado))"
   ]
  },
  {
   "cell_type": "code",
   "execution_count": 77,
   "metadata": {},
   "outputs": [],
   "source": [
    "i = 1\n",
    "j = 0"
   ]
  },
  {
   "cell_type": "code",
   "execution_count": 78,
   "metadata": {},
   "outputs": [],
   "source": [
    "destaparCasilla = destapar_casilla(i, j, tableroOculto, tableroDestapado)"
   ]
  },
  {
   "cell_type": "code",
   "execution_count": 79,
   "metadata": {},
   "outputs": [
    {
     "name": "stdout",
     "output_type": "stream",
     "text": [
      "[['1' 'X' 'X' 'X' 'X']\n",
      " ['1' 'X' 'X' 'X' 'X']\n",
      " ['X' 'X' 'X' 'X' 'X']\n",
      " ['X' 'X' 'X' 'X' 'X']\n",
      " ['X' 'X' 'X' 'X' 'X']]\n"
     ]
    }
   ],
   "source": [
    "print(numpy.array(destaparCasilla)) #Se realiza la accion de destapar una casilla del tablero oculto"
   ]
  },
  {
   "cell_type": "code",
   "execution_count": 80,
   "metadata": {},
   "outputs": [],
   "source": [
    "def indices_casillas_vecinas (i, j, tableroDestapado): # De esta manera se añaden los índices de las casillas vecinas a la destapada.\n",
    "    indiceCasillasVecinas = []\n",
    "    \n",
    "    if((i-1)>=0 and (j-1)>=0):#1\n",
    "        indiceCasillasVecinas.append('{0}{1}'.format(i-1, j-1)) #base 10\n",
    "    if((i-1)>=0):#2\n",
    "        indiceCasillasVecinas.append('{0}{1}'.format(i-1, j)) \n",
    "    if((i-1)>=0 and (j+1) < len(tableroOculto)):#3\n",
    "        indiceCasillasVecinas.append('{0}{1}'.format(i-1, j+1))\n",
    "    if((j-1)>=0):#4\n",
    "        indiceCasillasVecinas.append('{0}{1}'.format(i, j-1))\n",
    "    if((j+1)<len(tableroOculto)):#5\n",
    "        indiceCasillasVecinas.append('{0}{1}'.format(i, j+1))\n",
    "    if((i+1)<len(tableroOculto) and (j-1)>=0):#6\n",
    "        indiceCasillasVecinas.append('{0}{1}'.format(i+1, j-1))\n",
    "    if((i+1)<len(tableroOculto)):#7\n",
    "        indiceCasillasVecinas.append('{0}{1}'.format(i+1, j))\n",
    "    if((i+1)<len(tableroOculto) and (j+1)<len(tableroOculto)):#8\n",
    "        indiceCasillasVecinas.append('{0}{1}'.format(i+1, j+1))\n",
    "    \n",
    "    return indiceCasillasVecinas"
   ]
  },
  {
   "cell_type": "code",
   "execution_count": 81,
   "metadata": {},
   "outputs": [
    {
     "name": "stdout",
     "output_type": "stream",
     "text": [
      "['00', '01', '11', '20', '21']\n"
     ]
    }
   ],
   "source": [
    "print(indices_casillas_vecinas (i, j, tableroDestapado)) #no hace falta que sea sobre el tablero destapado (puede ser sobre el oculto). SOlo queremos los índices."
   ]
  },
  {
   "cell_type": "code",
   "execution_count": 82,
   "metadata": {},
   "outputs": [],
   "source": [
    "def lista_de_minas (tableroDestapado):\n",
    "    ListaMinas = []\n",
    "    for i in range (X):\n",
    "        for j in range (Y):\n",
    "            if(tableroDestapado[i][j] == 'M'):\n",
    "                ListaMinas.append('{0}{1}'.format(i, j))\n",
    "    return ListaMinas"
   ]
  },
  {
   "cell_type": "code",
   "execution_count": 83,
   "metadata": {},
   "outputs": [
    {
     "name": "stdout",
     "output_type": "stream",
     "text": [
      "['11', '24', '34', '41', '44']\n"
     ]
    }
   ],
   "source": [
    "print (lista_de_minas (tableroDestapado))"
   ]
  },
  {
   "cell_type": "code",
   "execution_count": 84,
   "metadata": {},
   "outputs": [],
   "source": [
    "def crear_red_bayesiana(X, Y, tableroOculto):\n",
    "    modelo_buscaminas = pgmm.BayesianModel()\n",
    "    #x->oculta\n",
    "    #Y->destapada\n",
    "    ListaCompletaCasillasOcultas = []\n",
    "    ListaCasillasOcultas = []\n",
    "    ListaCasillasDestapadas = []\n",
    "    for i in range (X):\n",
    "        for j in range (Y):\n",
    "            casillasVecinas = indices_casillas_vecinas(i, j, tableroDestapado) #En principio vamos a probar con destapado(aunque deberia dar igual porque son indices)\n",
    "            if (tableroOculto[i][j] == 'X'):\n",
    "                \n",
    "                ListaCompletaCasillasOcultas.append('Oculta({0},{1})'.format(i, j)) \n",
    "                \n",
    "                tieneVecinosDestapados = False\n",
    "                for vecinoCasillaActual in casillasVecinas:\n",
    "                    if(tableroOculto[int(vecinoCasillaActual[0])][int(vecinoCasillaActual[1])] != 'X'):\n",
    "                        tieneVecinosDestapados = True\n",
    "                        break\n",
    "                if(tieneVecinosDestapados):\n",
    "                    ListaCasillasOcultas.append('Oculta({0},{1})'.format(i, j))\n",
    "                    modelo_buscaminas.add_nodes_from(['Oculta({0},{1})'.format(i, j)])    \n",
    "            else:\n",
    "                ListaCasillasDestapadas.append('Destapada({0},{1})'.format(i, j))\n",
    "                \n",
    "                tieneVecinosOcultos = False\n",
    "                ListaDeMinas = lista_de_minas(tableroDestapado)\n",
    "                for vecinoCasillaActual in casillasVecinas:\n",
    "                    if(tableroOculto[int(vecinoCasillaActual[0])][int(vecinoCasillaActual[1])] != 'X' and not ListaDeMinas.__contains__(vecinoCasillaActual)):\n",
    "                        tieneVecinosDestapados = True\n",
    "                        break\n",
    "                if(tieneVecinosOcultos):\n",
    "                    ListaCasillasDestapadas.append('Destapada({0},{1})'.format(i, j))\n",
    "                    modelo_buscaminas.add_nodes_from(['Destapada({0},{1})'.format(i, j)])\n",
    "    \n",
    "    print(\"Lista Completa casillas ocultas : \")\n",
    "    print(ListaCompletaCasillasOcultas) \n",
    "    print(\"\\n\")\n",
    "    print(\"Lista casillas vecinas ocultas acumuladas hasta la posicion actual : \")\n",
    "    print(ListaCasillasOcultas)\n",
    "    print(\"\\n\")\n",
    "    print(\"Lista casillas destapadas hasta ese momento : \")\n",
    "    print(ListaCasillasDestapadas)\n",
    "    print(\"\\n\")\n",
    "    \n",
    "    print(\"Comprobamos la lista de nodos añadidas a la red bayesiana:\")\n",
    "    print(modelo_buscaminas.nodes())\n",
    "    print(\"\\n\")\n",
    "    #Una vez tenemos los nodos añadidos a la red bayesiana procedemos a añadir aristas entre los nodos.\n",
    "    #De manera que las casillas destapadas tendran aristas con sus ocultas (vecinas)\n",
    "    \n",
    "    Aristas=dict() #dict ???\n",
    "    for i in range(X):\n",
    "        for j in range(Y):\n",
    "            Destapada='Destapada({0},{1})'.format(i, j)\n",
    "            #Si la casilla ha sido destapada y se ha añadido a la lista de casillas destapadas\n",
    "            if(tableroOculto[i][j]!='X' and ListaCasillasDestapadas.__contains__(Destapada)):\n",
    "                ListaVecinosOcultos=[]\n",
    "                casillasVecinas=indices_casillas_vecinas (i, j, tableroDestapado) \n",
    "                #me recorro las vecinas de la destapada\n",
    "                for vecinoCasillaActual in casillasVecinas:\n",
    "                    Oculta='Oculta({0},{1})'.format(vecinoCasillaActual[0],vecinoCasillaActual[1])\n",
    "                    #si es oculta la casilla vecina que me estoy recorriendo la añado al grafo\n",
    "                    if(ListaCasillasOcultas.__contains__(Oculta)):\n",
    "                        modelo_buscaminas.add_edges_from([(Oculta, Destapada)])\n",
    "                        ListaVecinosOcultos.append(Oculta)\n",
    "                Aristas.update({Destapada: ListaVecinosOcultos})#asocia la casilla destapada con la lista de vecinos ocultos\n",
    "                \n",
    "    print(\"Lista de aristas:\")\n",
    "    print(Aristas)\n",
    "    print(\"\\n\")\n",
    "    print(\"Lista de vecinos ocultos:\")\n",
    "    print(ListaVecinosOcultos)\n",
    "    print(\"\\n\")\n",
    "    \n",
    "    print(\"Comprobamos la lista de aristas añadidas a la red bayesiana:\") #Formato: [Oculta(i,j), Destapada(fijo,fijo)]\n",
    "    print(modelo_buscaminas.edges())\n",
    "    print(\"\\n\")\n",
    "    \n",
    "    return modelo_buscaminas"
   ]
  },
  {
   "cell_type": "code",
   "execution_count": 85,
   "metadata": {},
   "outputs": [
    {
     "name": "stdout",
     "output_type": "stream",
     "text": [
      "Lista Completa casillas ocultas : \n",
      "['Oculta(0,1)', 'Oculta(0,2)', 'Oculta(0,3)', 'Oculta(0,4)', 'Oculta(1,1)', 'Oculta(1,2)', 'Oculta(1,3)', 'Oculta(1,4)', 'Oculta(2,0)', 'Oculta(2,1)', 'Oculta(2,2)', 'Oculta(2,3)', 'Oculta(2,4)', 'Oculta(3,0)', 'Oculta(3,1)', 'Oculta(3,2)', 'Oculta(3,3)', 'Oculta(3,4)', 'Oculta(4,0)', 'Oculta(4,1)', 'Oculta(4,2)', 'Oculta(4,3)', 'Oculta(4,4)']\n",
      "\n",
      "\n",
      "Lista casillas vecinas ocultas acumuladas hasta la posicion actual : \n",
      "['Oculta(0,1)', 'Oculta(1,1)', 'Oculta(2,0)', 'Oculta(2,1)']\n",
      "\n",
      "\n",
      "Lista casillas destapadas hasta ese momento : \n",
      "['Destapada(0,0)', 'Destapada(1,0)']\n",
      "\n",
      "\n",
      "Comprobamos la lista de nodos añadidas a la red bayesiana:\n",
      "['Oculta(0,1)', 'Oculta(1,1)', 'Oculta(2,0)', 'Oculta(2,1)']\n",
      "\n",
      "\n",
      "Lista de aristas:\n",
      "{'Destapada(0,0)': ['Oculta(0,1)', 'Oculta(1,1)'], 'Destapada(1,0)': ['Oculta(0,1)', 'Oculta(1,1)', 'Oculta(2,0)', 'Oculta(2,1)']}\n",
      "\n",
      "\n",
      "Lista de vecinos ocultos:\n",
      "['Oculta(0,1)', 'Oculta(1,1)', 'Oculta(2,0)', 'Oculta(2,1)']\n",
      "\n",
      "\n",
      "Comprobamos la lista de aristas añadidas a la red bayesiana:\n",
      "[('Oculta(0,1)', 'Destapada(0,0)'), ('Oculta(0,1)', 'Destapada(1,0)'), ('Oculta(1,1)', 'Destapada(0,0)'), ('Oculta(1,1)', 'Destapada(1,0)'), ('Oculta(2,0)', 'Destapada(1,0)'), ('Oculta(2,1)', 'Destapada(1,0)')]\n",
      "\n",
      "\n",
      "\n"
     ]
    }
   ],
   "source": [
    "print(crear_red_bayesiana(X, Y, tableroOculto))\n"
   ]
  },
  {
   "cell_type": "code",
   "execution_count": 2,
   "metadata": {},
   "outputs": [],
   "source": [
    "\n",
    "#Creo tabla de probabilidad(CPD)\n",
    "#Las tablas de las ocultas no dependen de nada\n",
    "#Las tablas de las destapadas dependen de las ocultas vecinas.\n",
    "def crear_CPD(modelo_buscaminas, ListaMinas):\n",
    "    \n",
    "    #CPD de Ocultas\n",
    "    ListaValoresDestapados=dict() \n",
    "    for i in range(X):\n",
    "        for j in range(Y):\n",
    "            Oculta = 'Oculta{0},{1}'.format(i,j)\n",
    "            if(tableroOculto[i][j]=='X' and ListaCasillasOcultas.__contains__(Oculta)):\n",
    "                #Si la casilla por destapar tiene la misma posicion que una de las minas\n",
    "                if(ListaMinas.__contains__(Oculta)):\n",
    "                    probabilidadMina = 1\n",
    "                #Si el numero de casillas por destapar es mayor que le numero de minas que tiene el tablero\n",
    "                elif(len(ListaCompletaCasillasOcultas)>numero_minas):\n",
    "                    #numero de casillas destapadas = (X*Y)-len(ListaCompletaCasillasOcultas)\n",
    "                    #La probabilidad de que sea mina es el (numero de casillas destapadas-numero de minas)/numero de casillas ocultas\n",
    "                    probabilidadMina = ((X*Y)-len(ListaCompletaCasillasOcultas)-numero_minas/len(ListaCompletaCasillasOcultas))\n",
    "                else:\n",
    "                    probabilidadMina = 0\n",
    "                    \n",
    "                #Añadimos la cpd al modelo \n",
    "                cpd = pgmf.TabularCPD(Oculta, 2, [[1-probabilidadMina, probabilidadMina]]) #Esto hay que ponerlo bien\n",
    "                modelo_buscaminas.add_cpds(cpd)                \n",
    "                                    \n",
    "                                \n",
    "   "
   ]
  },
  {
   "cell_type": "code",
   "execution_count": null,
   "metadata": {},
   "outputs": [],
   "source": [
    "\n",
    "                                         "
   ]
  },
  {
   "cell_type": "code",
   "execution_count": null,
   "metadata": {},
   "outputs": [],
   "source": []
  }
 ],
 "metadata": {
  "kernelspec": {
   "display_name": "Python 3",
   "language": "python",
   "name": "python3"
  },
  "language_info": {
   "codemirror_mode": {
    "name": "ipython",
    "version": 3
   },
   "file_extension": ".py",
   "mimetype": "text/x-python",
   "name": "python",
   "nbconvert_exporter": "python",
   "pygments_lexer": "ipython3",
   "version": "3.6.4"
  }
 },
 "nbformat": 4,
 "nbformat_minor": 2
}
