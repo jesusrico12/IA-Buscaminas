{
 "cells": [
  {
   "cell_type": "code",
   "execution_count": 223,
   "metadata": {},
   "outputs": [],
   "source": [
    "import networkx  # Permite trabajar con grafos\n",
    "import pgmpy.models as pgmm  # Modelos gráficos de probabilidad\n",
    "import pgmpy.factors.discrete as pgmf  # Tablas de probabilidades condicionales y factores de probabilidad\n",
    "import pgmpy.inference as pgmi  # Inferencia probabilística exacta\n",
    "import random\n",
    "import numpy "
   ]
  },
  {
   "cell_type": "code",
   "execution_count": 224,
   "metadata": {},
   "outputs": [],
   "source": [
    "X = 5\n",
    "Y = 5\n",
    "numero_minas = 5"
   ]
  },
  {
   "cell_type": "code",
   "execution_count": 240,
   "metadata": {},
   "outputs": [],
   "source": [
    "#RESPECTO AL TABLERO\n",
    "def crear_tablero (X, Y, numero_minas):\n",
    "    #Si hay mas minas que posiciones del tablero salta un error\n",
    "    if (numero_minas > X * Y):\n",
    "        raise Exception('No puede haber más minas que casillas!!')\n",
    "        #esto saltaria si tuvieramos un boton,o alguna forma de preguntarlo,si pusieramos de mas ?\n",
    "        \n",
    "    #Ahora construyo el tablero con el tamaño definido por 'X' e 'Y'.\n",
    "    tablero = [[0] * X for i in range(X)]\n",
    "    \n",
    "    #Colocamos las minas en el tablero de forma aleatoria\n",
    "    for i in range (numero_minas):\n",
    "        columna_aleatoria = -1\n",
    "        fila_aleatoria = -1\n",
    "        #Si no tiene asignada ninguna columna ni fila se le pone una mina en una posicion aleatoria\n",
    "        while (columna_aleatoria == -1 or fila_aleatoria == -1 or tablero[fila_aleatoria][columna_aleatoria] == \"M\"):\n",
    "            columna_aleatoria = random.randint (0, Y-1)\n",
    "            fila_aleatoria = random.randint (0, X-1)\n",
    "            \n",
    "            #Se van colocando las minas    \n",
    "        tablero[fila_aleatoria][columna_aleatoria] = \"M\" #Se le asigna una mina con la letra M\n",
    "    #Contamos el numero de minas vecinas para cada casilla \n",
    "    #Contamos el numero de minas vecinas para cada casilla para completar el tablero\n",
    "    #Dibujo explicativo de los índices vecinos: [posicion del condicional](i,j)\n",
    "    #  |[1](-1,-1)|[2](-1,0)|[3](-1,+1)|\n",
    "    #  |[4](0,-1) |[-]( 0,0)|[5] (0,+1)| //CASILLA CENTRAL ELEGIDA \n",
    "    #  |[6](+1,-1)|[7](+1,0)|[8](+1,+1)|\n",
    "    suma = 0\n",
    "    for i in range (X): \n",
    "        for j in range (Y):\n",
    "            if ((i-1) >= 0 and (j-1) >= 0 and tablero[i-1][j-1] == \"M\"): #1\n",
    "                suma = suma + 1\n",
    "            if ((i-1) >= 0 and tablero[i-1][j] == \"M\"): #2\n",
    "                suma = suma + 1\n",
    "            if ((i-1) >= 0 and (j+1) < len(tablero) and tablero[i-1][j+1]  == \"M\"): #3 \n",
    "                suma = suma + 1\n",
    "            if ((j-1) >= 0 and tablero[i][j-1] == \"M\"): #4\n",
    "                suma = suma + 1\n",
    "            if ((j+1) < len(tablero) and tablero[i][j+1] == \"M\"): #5\n",
    "                suma = suma + 1\n",
    "            if ((i+1) < len(tablero) and (j-1) >= 0 and tablero[i+1][j-1] == \"M\"): #6\n",
    "                suma = suma + 1\n",
    "            if ((i+1) < len(tablero) and tablero[i+1][j] == \"M\"): #7\n",
    "                suma = suma + 1\n",
    "            if ((i+1) < len(tablero) and (j+1) < len(tablero) and tablero[i+1][j+1] == \"M\"): #8\n",
    "                suma = suma + 1\n",
    "            #Si la suma de minas vecinas es mayor que 0 y esa casilla no es una mina: se guarda ese numero en esa posicion\n",
    "            if (suma > 0 and tablero[i][j] != 'M'):\n",
    "                tablero[i][j] = str(suma)\n",
    "            suma = 0 \n",
    "            \n",
    "    return tablero\n",
    "    #Quedaría hacer las esquinas y lados de casilla escogida!!\n",
    "\n",
    "#OCULTAMOS TODAS LAS CASILLAS PARA INICIALIZAR EL TABLERO NO VISIBLE\n",
    "def tablero_oculto (X):\n",
    "    tableroOculto = [['X'] * X for i in range(X)]   # He definido que las casillas ocultas van a estar con una X\n",
    "    return tableroOculto\n",
    "\n",
    "#RESPECTO A LAS CASILLAS\n",
    "def destapar_casilla (i, j, tableroOculto, tableroDestapado):\n",
    "    if (tableroOculto[i][j] == 'X'):\n",
    "        casillaResuelta = tableroDestapado[i][j] #guardo en esa variable el resultado de la casilla destapada del tablero\n",
    "        #Ahora vemos que sucede en funcion de lo que de al destapar esa casilla\n",
    "        #Si la casilla es una mina\n",
    "        #  |[1](-1,-1)|[2](-1,0)|[3](-1,+1)|\n",
    "        #  |[4](0,-1) |[-]( 0,0)|[5] (0,+1)|\n",
    "        #  |[6](+1,-1)|[7](+1,0)|[8](+1,+1)|\n",
    "        if(casillaResuelta == 'M'):\n",
    "            raise Exception('Has perdido! ha explotado una mina')\n",
    "        #Si la casilla No es una mina\n",
    "        else:\n",
    "            tableroOculto[i][j] = casillaResuelta\n",
    "        #Si la casilla NO es una mina y tiene un 0 se destapa la zona\n",
    "        if(casillaResuelta == 0): #ahora de la misma manera que los if anteriores se destapan dependiendo de la posicion relativa de la casilla \n",
    "            if((i-1)>=0 and (j-1)>=0):#1\n",
    "                destapar_casilla(i-1, j-1, tableroOculto, tableroDestapado)\n",
    "            if((i-1)>=0):#2\n",
    "                destapar_casilla(i-1, j, tableroOculto, tableroDestapado) \n",
    "            if((i-1)>=0 and (j+1) < len(tableroOculto)):#3\n",
    "                destapar_casilla(i-1, j+1, tableroOculto, tableroDestapado)\n",
    "            if((j-1)>=0):#4\n",
    "                destapar_casilla(i, j-1, tableroOculto, tableroDestapado)\n",
    "            if((j+1)<len(tableroOculto)):#5\n",
    "                destapar_casilla(i, j+1, tableroOculto, tableroDestapado)\n",
    "            if((i+1)<len(tableroOculto) and (j-1)>=0):#6\n",
    "                destapar_casilla(i+1, j-1, tableroOculto, tableroDestapado)\n",
    "            if((i+1)<len(tableroOculto)):#7\n",
    "                destapar_casilla(i+1, j, tableroOculto, tableroDestapado)\n",
    "            if((i+1)<len(tableroOculto) and (j+1)<len(tableroOculto)):#8\n",
    "                destapar_casilla(i+1, j+1, tableroOculto, tableroDestapado)\n",
    "                     \n",
    "        return tableroOculto\n"
   ]
  },
  {
   "cell_type": "code",
   "execution_count": 241,
   "metadata": {},
   "outputs": [],
   "source": [
    "tableroDestapado = crear_tablero (X, Y, numero_minas)"
   ]
  },
  {
   "cell_type": "code",
   "execution_count": 242,
   "metadata": {},
   "outputs": [],
   "source": [
    "tableroOculto = tablero_oculto(X)"
   ]
  },
  {
   "cell_type": "code",
   "execution_count": 243,
   "metadata": {},
   "outputs": [
    {
     "name": "stdout",
     "output_type": "stream",
     "text": [
      "[['0' '1' '1' '1' '0']\n",
      " ['1' '2' 'M' '2' '1']\n",
      " ['M' '3' '3' 'M' '1']\n",
      " ['2' 'M' '3' '2' '1']\n",
      " ['1' '2' 'M' '1' '0']]\n"
     ]
    }
   ],
   "source": [
    "print(numpy.array(tableroDestapado))"
   ]
  },
  {
   "cell_type": "code",
   "execution_count": 244,
   "metadata": {},
   "outputs": [],
   "source": [
    "i = 0\n",
    "j = 0"
   ]
  },
  {
   "cell_type": "code",
   "execution_count": 245,
   "metadata": {},
   "outputs": [],
   "source": [
    "destaparCasilla = destapar_casilla(i, j, tableroOculto, tableroDestapado)"
   ]
  },
  {
   "cell_type": "code",
   "execution_count": 246,
   "metadata": {},
   "outputs": [
    {
     "name": "stdout",
     "output_type": "stream",
     "text": [
      "[['0' '1' 'X' 'X' 'X']\n",
      " ['1' '2' 'X' 'X' 'X']\n",
      " ['X' 'X' 'X' 'X' 'X']\n",
      " ['X' 'X' 'X' 'X' 'X']\n",
      " ['X' 'X' 'X' 'X' 'X']]\n"
     ]
    }
   ],
   "source": [
    "print(numpy.array(destaparCasilla))"
   ]
  },
  {
   "cell_type": "code",
   "execution_count": null,
   "metadata": {},
   "outputs": [],
   "source": [
    "#añadir el metodo de los indices\n"
   ]
  },
  {
   "cell_type": "code",
   "execution_count": null,
   "metadata": {},
   "outputs": [],
   "source": []
  },
  {
   "cell_type": "code",
   "execution_count": 13,
   "metadata": {},
   "outputs": [
    {
     "ename": "SyntaxError",
     "evalue": "invalid syntax (<ipython-input-13-4cbaf4fb18d1>, line 25)",
     "output_type": "error",
     "traceback": [
      "\u001b[1;36m  File \u001b[1;32m\"<ipython-input-13-4cbaf4fb18d1>\"\u001b[1;36m, line \u001b[1;32m25\u001b[0m\n\u001b[1;33m    tieneXColindante = True\u001b[0m\n\u001b[1;37m                     ^\u001b[0m\n\u001b[1;31mSyntaxError\u001b[0m\u001b[1;31m:\u001b[0m invalid syntax\n"
     ]
    }
   ],
   "source": [
    "def crearRedBayesiana(X,Y,numero_minas,tableroOculto):#tablero?\n",
    "\n",
    "    Modelo_buscaminas=pgmm.BayesianModel() #utilizo libreria pgmpy\n",
    "    #creo variables aleatorias\n",
    "    #Xij casillas no reveladas\"X\"\n",
    "    #Yij casillas reveladas que no son mina \"M\"\n",
    "    listaX=[]\n",
    "    listaY=[]\n",
    "    listaTodasX=[]\n",
    "    XSinYColindante=False\n",
    "    for i in range(X):\n",
    "        for j in range(Y):\n",
    "            \n",
    "            if(not tableroOculto[i][j]=='M'): #lo pongo al reves a como lo tienen ellos  \n",
    "                y='y{0}{1}'.format(i,j)\n",
    "                \n",
    "                tieneXColindante=False\n",
    "                \n",
    "                casillasColindantes=obtenerIndiceCasillasColindantes(tableroOculto, i, j)\n",
    "                while alrededores in casillasColindantes:\n",
    "                        colindanteX= 'x{0}{1}'.format(alrededores[0],alrededores[1])\n",
    "                        \n",
    "                        if(tableroOculto[int(alrededores[0][int(alrededores[1])]=='M'): ##falta lista Minas\n",
    "                                         \n",
    "                            tieneXColindante = True \n",
    "                            break\n",
    "                                         \n",
    "                        if(tieneXColindante):\n",
    "                           listaY.append(y) \n",
    "                           Modelo_buscaminas.add_nodes_from([y])              \n",
    "                                         \n",
    "            else:\n",
    "                x= 'x{0}{1}'.format(i,j)\n",
    "                                         \n",
    "                listaTodasX.append(x)\n",
    "                                        \n",
    "                tieneYColindante= False\n",
    "                \n",
    "                casillasColindantes=obtenerIndiceCasillasColindantes(tableroOculto, i, j)\n",
    "                                         \n",
    "                while alrededores in casillasColindantes:\n",
    "                                         \n",
    "                     if(tableroOculto[int(alrededores[0])][int(alrededores[0])] !='M'):  \n",
    "                        \n",
    "                        tieneYColindante= True\n",
    "                                         \n",
    "                        break\n",
    "                    \n",
    "                     if(tieneYColindante or not XSinYColindante):            \n",
    "                        \n",
    "                        listaX.append(x)\n",
    "                        Modelo_buscaminas.add_nodes_from([x])\n",
    "                     if(not tieneYColindante):\n",
    "                        XSinYColindante=True\n",
    "                                         \n",
    "    print()\n"
   ]
  }
 ],
 "metadata": {
  "kernelspec": {
   "display_name": "Python 3",
   "language": "python",
   "name": "python3"
  },
  "language_info": {
   "codemirror_mode": {
    "name": "ipython",
    "version": 3
   },
   "file_extension": ".py",
   "mimetype": "text/x-python",
   "name": "python",
   "nbconvert_exporter": "python",
   "pygments_lexer": "ipython3",
   "version": "3.6.4"
  }
 },
 "nbformat": 4,
 "nbformat_minor": 2
}
