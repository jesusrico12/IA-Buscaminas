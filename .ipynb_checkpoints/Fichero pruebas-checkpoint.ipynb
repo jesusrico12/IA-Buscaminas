{
 "cells": [
  {
   "cell_type": "code",
   "execution_count": 28,
   "metadata": {},
   "outputs": [],
   "source": [
    "import random \n",
    "import numpy    \n",
    "#variables:\n",
    "X = 5 #filas\n",
    "Y = 5 #columnas\n",
    "numero_minas = 5\n",
    "    \n",
    "    #Si hay mas minas que posiciones del tablero salta un error\n",
    "if (numero_minas > X * Y):\n",
    "    raise Exception('No puedes añadir tantas minas')\n",
    "        \n",
    "    #Ahora construyo el tablero con el tamaño definido por 'X' e 'Y'.\n",
    "tablero = [[0] * X for i in range(X)]\n",
    "    \n",
    "    #Colocamos las minas en el tablero de forma aleatoria\n",
    "for i in range (numero_minas):\n",
    "    fila_aleatoria = -1 #Le asignamos al principio -1 (como no asignada) porque las filas van desde 0 hasta X\n",
    "    columna_aleatoria = -1 #Le asignamos al principio -1 (como no asignada) porque las columnas van desde 0 hasta Y\n",
    "    #Si no tiene asignada ninguna columna ni fila se le pone una mina en una posicion aleatoria\n",
    "    while (columna_aleatoria == -1 or fila_aleatoria == -1 or tablero[fila_aleatoria][columna_aleatoria] == \"M\"):\n",
    "        fila_aleatoria = random.randint (0, X-1)\n",
    "        columna_aleatoria = random.randint (0, Y-1)\n",
    "        \n",
    "    tablero[fila_aleatoria][columna_aleatoria] = \"M\" #Se le asigna una mina con la letra M\n",
    "    \n",
    "#Contamos el numero de minas vecinas para cada casilla para completar el tablero\n",
    "#Dibujo explicativo de los índices vecinos: [posicion del condicional](i,j)\n",
    "#  |[1](-1,-1)|[2](-1,0)|[3](-1,+1)|\n",
    "#  |[4](0,-1) |[-]( 0,0)|[5] (0,+1)|\n",
    "#  |[6](+1,-1)|[7](+1,0)|[8](+1,+1)|\n",
    "\n",
    "\n",
    "def fuera_tablero(i, j): #si se sale del tablero para q devuelve true or false? no lanza un error?\n",
    "    if(i < 0 or i >= X or j < 0 or j >= Y):\n",
    "        return True\n",
    "    else:\n",
    "        return False\n",
    "    \n",
    "suma = 0\n",
    "for i in range (X): \n",
    "    for j in range (Y):\n",
    "        if ((i-1) >= 0 and (j-1) >= 0 and tablero[i-1][j-1] == \"M\"): #1\n",
    "            suma = suma + 1\n",
    "        if ((i-1) >= 0 and tablero[i-1][j] == \"M\"): #2\n",
    "            suma = suma + 1\n",
    "        if ((i-1) >= 0 and (j+1) < len(tablero) and tablero[i-1][j+1]  == \"M\"): #3\n",
    "            suma = suma + 1\n",
    "        if ((j-1) >= 0 and tablero[i][j-1] == \"M\"): #4\n",
    "            suma = suma + 1\n",
    "        if ((j+1) < len(tablero) and tablero[i][j+1] == \"M\"): #5\n",
    "            suma = suma + 1\n",
    "        if ((i+1) < len(tablero) and (j-1) >= 0 and tablero[i+1][j-1] == \"M\"): #6\n",
    "            suma = suma + 1\n",
    "        if ((i+1) < len(tablero) and tablero[i+1][j] == \"M\"): #7\n",
    "            suma = suma + 1\n",
    "        if ((i+1) < len(tablero) and (j+1) < len(tablero) and tablero[i+1][j+1] == \"M\"): #8\n",
    "            suma = suma + 1\n",
    "        #Si la suma de minas vecinas es mayor que 0 y esa casilla no es una mina: se guarda ese numero en esa posicion\n",
    "        if (suma > 0 and tablero[i][j] != 'M'):\n",
    "            tablero[i][j] = str(suma)\n",
    "        suma = 0 \n",
    "            \n"
   ]
  },
  {
   "cell_type": "code",
   "execution_count": 29,
   "metadata": {},
   "outputs": [
    {
     "name": "stdout",
     "output_type": "stream",
     "text": [
      "[['1', 'M', '2', 'M', '1'], ['1', '1', '3', '2', '2'], [0, 0, '1', 'M', '1'], ['2', '2', '2', '1', '1'], ['M', 'M', '1', 0, 0]]\n"
     ]
    }
   ],
   "source": [
    "print(tablero)"
   ]
  },
  {
   "cell_type": "code",
   "execution_count": 30,
   "metadata": {},
   "outputs": [
    {
     "name": "stdout",
     "output_type": "stream",
     "text": [
      "0\n"
     ]
    }
   ],
   "source": [
    "print(suma)"
   ]
  },
  {
   "cell_type": "code",
   "execution_count": 31,
   "metadata": {},
   "outputs": [],
   "source": [
    "Tablero_bonito = numpy.array(tablero)"
   ]
  },
  {
   "cell_type": "code",
   "execution_count": 32,
   "metadata": {},
   "outputs": [
    {
     "name": "stdout",
     "output_type": "stream",
     "text": [
      "[['1' 'M' '2' 'M' '1']\n",
      " ['1' '1' '3' '2' '2']\n",
      " ['0' '0' '1' 'M' '1']\n",
      " ['2' '2' '2' '1' '1']\n",
      " ['M' 'M' '1' '0' '0']]\n"
     ]
    }
   ],
   "source": [
    "print (Tablero_bonito)"
   ]
  },
  {
   "cell_type": "code",
   "execution_count": 33,
   "metadata": {},
   "outputs": [
    {
     "name": "stdout",
     "output_type": "stream",
     "text": [
      "5\n"
     ]
    }
   ],
   "source": [
    "print(len(tablero))"
   ]
  },
  {
   "cell_type": "code",
   "execution_count": 34,
   "metadata": {},
   "outputs": [],
   "source": [
    "tableroOculto = [['X'] * X for i in range(X)]"
   ]
  },
  {
   "cell_type": "code",
   "execution_count": 35,
   "metadata": {},
   "outputs": [],
   "source": [
    "Tablero_bonito_oculto = numpy.array(tableroOculto)"
   ]
  },
  {
   "cell_type": "code",
   "execution_count": 36,
   "metadata": {},
   "outputs": [
    {
     "name": "stdout",
     "output_type": "stream",
     "text": [
      "[['X' 'X' 'X' 'X' 'X']\n",
      " ['X' 'X' 'X' 'X' 'X']\n",
      " ['X' 'X' 'X' 'X' 'X']\n",
      " ['X' 'X' 'X' 'X' 'X']\n",
      " ['X' 'X' 'X' 'X' 'X']]\n"
     ]
    }
   ],
   "source": [
    "print (Tablero_bonito_oculto)"
   ]
  },
  {
   "cell_type": "code",
   "execution_count": 45,
   "metadata": {},
   "outputs": [
    {
     "ename": "TypeError",
     "evalue": "'int' object is not subscriptable",
     "output_type": "error",
     "traceback": [
      "\u001b[1;31m---------------------------------------------------------------------------\u001b[0m",
      "\u001b[1;31mTypeError\u001b[0m                                 Traceback (most recent call last)",
      "\u001b[1;32m<ipython-input-45-fc333d4feba4>\u001b[0m in \u001b[0;36m<module>\u001b[1;34m()\u001b[0m\n\u001b[0;32m     32\u001b[0m                 \u001b[0mdestapar_casilla\u001b[0m\u001b[1;33m(\u001b[0m\u001b[0mi\u001b[0m\u001b[1;33m,\u001b[0m \u001b[0mj\u001b[0m\u001b[1;33m,\u001b[0m \u001b[0mtableroOculto\u001b[0m\u001b[1;33m,\u001b[0m \u001b[0mtableroResuelto\u001b[0m\u001b[1;33m)\u001b[0m\u001b[1;33m\u001b[0m\u001b[0m\n\u001b[0;32m     33\u001b[0m         \u001b[0mprint\u001b[0m\u001b[1;33m(\u001b[0m\u001b[0mtableroOculto\u001b[0m\u001b[1;33m)\u001b[0m\u001b[1;33m\u001b[0m\u001b[0m\n\u001b[1;32m---> 34\u001b[1;33m \u001b[0mprint\u001b[0m\u001b[1;33m(\u001b[0m\u001b[0mdestapar_casilla\u001b[0m \u001b[1;33m(\u001b[0m\u001b[0mi\u001b[0m\u001b[1;33m,\u001b[0m \u001b[0mj\u001b[0m\u001b[1;33m,\u001b[0m \u001b[0mtableroOculto\u001b[0m\u001b[1;33m,\u001b[0m \u001b[0mtablero\u001b[0m\u001b[1;33m)\u001b[0m\u001b[1;33m)\u001b[0m\u001b[1;33m\u001b[0m\u001b[0m\n\u001b[0m",
      "\u001b[1;32m<ipython-input-45-fc333d4feba4>\u001b[0m in \u001b[0;36mdestapar_casilla\u001b[1;34m(i, j, tableroOculto, tablero)\u001b[0m\n\u001b[0;32m      8\u001b[0m         \u001b[1;31m#  |[4](0,-1) |[-]( 0,0)|[5] (0,+1)|\u001b[0m\u001b[1;33m\u001b[0m\u001b[1;33m\u001b[0m\u001b[0m\n\u001b[0;32m      9\u001b[0m         \u001b[1;31m#  |[6](+1,-1)|[7](+1,0)|[8](+1,+1)|\u001b[0m\u001b[1;33m\u001b[0m\u001b[1;33m\u001b[0m\u001b[0m\n\u001b[1;32m---> 10\u001b[1;33m         \u001b[1;32mif\u001b[0m\u001b[1;33m(\u001b[0m\u001b[0mcasillaResuelta\u001b[0m\u001b[1;33m[\u001b[0m\u001b[0mi\u001b[0m\u001b[1;33m]\u001b[0m\u001b[1;33m[\u001b[0m\u001b[0mj\u001b[0m\u001b[1;33m]\u001b[0m \u001b[1;33m==\u001b[0m \u001b[1;34m'M'\u001b[0m\u001b[1;33m)\u001b[0m\u001b[1;33m:\u001b[0m\u001b[1;33m\u001b[0m\u001b[0m\n\u001b[0m\u001b[0;32m     11\u001b[0m             \u001b[1;32mraise\u001b[0m \u001b[0mException\u001b[0m\u001b[1;33m(\u001b[0m\u001b[1;34m'Has perdido! ha explotado una mina'\u001b[0m\u001b[1;33m)\u001b[0m\u001b[1;33m\u001b[0m\u001b[0m\n\u001b[0;32m     12\u001b[0m         \u001b[1;31m#Si la casilla No es una mina\u001b[0m\u001b[1;33m\u001b[0m\u001b[1;33m\u001b[0m\u001b[0m\n",
      "\u001b[1;31mTypeError\u001b[0m: 'int' object is not subscriptable"
     ]
    }
   ],
   "source": [
    "\n",
    "def destapar_casilla (i, j, tableroOculto, tablero):\n",
    "    if (tableroOculto[i][j] == 'X'):\n",
    "        casillaResuelta = tablero[i][j] #guardo en esa variable el resultado de la casilla destapada del tablero\n",
    "        #Ahora vemos que sucede en funcion de lo que de al destapar esa casilla\n",
    "        #Si la casilla es una mina\n",
    "        #  |[1](-1,-1)|[2](-1,0)|[3](-1,+1)|\n",
    "        #  |[4](0,-1) |[-]( 0,0)|[5] (0,+1)|\n",
    "        #  |[6](+1,-1)|[7](+1,0)|[8](+1,+1)|\n",
    "        if(casillaResuelta[i][j] == 'M'):\n",
    "            raise Exception('Has perdido! ha explotado una mina')\n",
    "        #Si la casilla No es una mina\n",
    "        else:\n",
    "            tableroOculto[i][j] = casillaResuelta\n",
    "        #Si la casilla NO es una mina y tiene un 0 se destapa la zona\n",
    "        if(casillaResuelta[i][j] == 0): #ahora de la misma manera que los if anteriores se destapan dependiendo de la posicion relativa de la casilla \n",
    "            if((i-1)>=0 and (j-1)>=0):#1\n",
    "                destapar_casilla(i, j, tableroOculto, tableroResuelto)\n",
    "            if((i-1)>=0):#2\n",
    "                destapar_casilla(i, j, tableroOculto, tableroResuelto)  #no veo muy claro si se hace asi queda lioso( los ifs ) xD\n",
    "            if((i-1)>=0 and (j+1) < len(tablero)):#3\n",
    "                destapar_casilla(i, j, tableroOculto, tableroResuelto)\n",
    "            if((j-1)>=0):#4\n",
    "                destapar_casilla(i, j, tableroOculto, tableroResuelto)\n",
    "            if((j+1)<len(tablero)):#5\n",
    "                destapar_casilla(i, j, tableroOculto, tableroResuelto)\n",
    "            if((i+1)<len(tablero) and (j-1)>=0):#6\n",
    "                destapar_casilla(i, j, tableroOculto, tableroResuelto)\n",
    "            if((i+1)<len(tablero)):#7\n",
    "                destapar_casilla(i, j, tableroOculto, tableroResuelto)\n",
    "            if((i+1)<len(tablero) and (j+1)<len(tablero)):#8\n",
    "                destapar_casilla(i, j, tableroOculto, tableroResuelto)\n",
    "        print(tableroOculto)           \n",
    "print(destapar_casilla (i, j, tableroOculto, tablero))\n"
   ]
  },
  {
   "cell_type": "code",
   "execution_count": 40,
   "metadata": {},
   "outputs": [
    {
     "name": "stdout",
     "output_type": "stream",
     "text": [
      "\n"
     ]
    }
   ],
   "source": [
    "  def obtenerIndiceCasillasColindantes(i, j, tableroOculto):#Obtener el indice de las casillas colindantes\n",
    "            #no seria del tablero cuando hay casillas destapadas?\n",
    "        indiceCasillas = [] # lista de de indices de las casillas colindantes\n",
    "            #'{0}{1}{0}'.format('abra', 'cad') proporciona 'abracadabra'\n",
    "            #supongo q estos indices haran falta para saber cual es la casilla siguiente mejor con la probabilidad\n",
    "        if (j+1 < len(tableroOculto[0])):\n",
    "            indiceCasillas.append(\"{0}{1}\".format(i, j+1)) #añade a la lista IndiceCasillas: indice fila y columna \n",
    "        if (j > 0): #{0}{1} yo le pondria una coma entre las llaves\n",
    "            indiceCasillas.append(\"{0}{1}\".format(i, j-1)) # las 8 posiciones\n",
    "        if (i+1 < len(tableroOculto)):\n",
    "            indiceCasillas.append(\"{0}{1}\".format(i+1, j))\n",
    "        if (i > 0):\n",
    "            indiceCasillas.append(\"{0}{1}\".format(i-1, j)) # lo que está entre llaves si nos da tiempo se podria modificar , primero vemos q funciones y ya luego cambiamos no?\n",
    "        if (i+1 < len(tableroOculto) and j+1 < len(tableroOculto[0])):\n",
    "            indiceCasillas.append(\"{0}{1}\".format(i+1, j+1))\n",
    "        if (i+1 < len(tableroOculto) and j > 0):\n",
    "            indiceCasillas.append(\"{0}{1}\".format(i+1, j-1))\n",
    "        if (i > 0 and j+1 < len(tableroOculto[0])):#contemplando para cada lado o esquina con el tamaño fila y columna,así no hay q hacer funciones para lado y fila en especial \n",
    "            indiceCasillas.append(\"{0}{1}\".format(i-1, j+1))\n",
    "        if (i > 0 and j > 0):\n",
    "            indiceCasillas.append(\"{0}{1}\".format(i-1, j-1))\n",
    "\n",
    "        return indiceCasillas\n",
    "print()"
   ]
  },
  {
   "cell_type": "code",
   "execution_count": null,
   "metadata": {},
   "outputs": [],
   "source": []
  }
 ],
 "metadata": {
  "kernelspec": {
   "display_name": "Python 3",
   "language": "python",
   "name": "python3"
  },
  "language_info": {
   "codemirror_mode": {
    "name": "ipython",
    "version": 3
   },
   "file_extension": ".py",
   "mimetype": "text/x-python",
   "name": "python",
   "nbconvert_exporter": "python",
   "pygments_lexer": "ipython3",
   "version": "3.6.4"
  }
 },
 "nbformat": 4,
 "nbformat_minor": 2
}
